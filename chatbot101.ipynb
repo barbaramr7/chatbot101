{
 "cells": [
  {
   "cell_type": "code",
   "execution_count": 2,
   "id": "9f24d4b9-d39a-4a4f-b365-654032e11a26",
   "metadata": {},
   "outputs": [],
   "source": [
    "import random\n",
    "#we start by importing random because we'll define multiple possible responses for each input"
   ]
  },
  {
   "cell_type": "code",
   "execution_count": 4,
   "id": "5ce229c1-d947-4885-b05a-37bbd2aa50b7",
   "metadata": {},
   "outputs": [],
   "source": [
    "#first step is defining responses to possible inputs\n",
    "\n",
    "responses = {\n",
    "    \"hello\": [\"Hi there!\", \"Hello!\", \"Hey!\"],\n",
    "    \"how are you\": [\"I'm just a bot, ya know!\", \"I'm doing great, thanks!\"],\n",
    "    \"bye\": [\"Goodbye!\", \"See you later!\", \"Take care!\"]\n",
    "}"
   ]
  },
  {
   "cell_type": "code",
   "execution_count": 9,
   "id": "6bb23051-4865-452b-b362-807a3f8c2787",
   "metadata": {},
   "outputs": [],
   "source": [
    "#second step is creating the chatbot functions\n",
    "def chatbot_response(user_input):\n",
    "    user_input = user_input.lower()\n",
    "    for key in responses:\n",
    "        if key in user_input:\n",
    "            return random.choice(responses[key])\n",
    "    return \"I'm not sure how to respond to that.\""
   ]
  },
  {
   "cell_type": "code",
   "execution_count": 11,
   "id": "445dded7-6533-4a25-a455-310ca5b4b504",
   "metadata": {},
   "outputs": [
    {
     "name": "stdin",
     "output_type": "stream",
     "text": [
      "You:  Hi!\n"
     ]
    },
    {
     "name": "stdout",
     "output_type": "stream",
     "text": [
      "Chatbot: I'm not sure how to respond to that.\n"
     ]
    },
    {
     "name": "stdin",
     "output_type": "stream",
     "text": [
      "You:  hello\n"
     ]
    },
    {
     "name": "stdout",
     "output_type": "stream",
     "text": [
      "Chatbot: Hey!\n"
     ]
    },
    {
     "name": "stdin",
     "output_type": "stream",
     "text": [
      "You:  how are you\n"
     ]
    },
    {
     "name": "stdout",
     "output_type": "stream",
     "text": [
      "Chatbot: I'm doing great, thanks!\n"
     ]
    },
    {
     "name": "stdin",
     "output_type": "stream",
     "text": [
      "You:  bye\n"
     ]
    },
    {
     "name": "stdout",
     "output_type": "stream",
     "text": [
      "Chatbot: Goodbye!\n"
     ]
    }
   ],
   "source": [
    "#our final step is running the chatbot!\n",
    "\n",
    "while True:\n",
    "    user_input = input(\"You: \")\n",
    "    if user_input.lower() == \"bye\":\n",
    "        print(\"Chatbot: Goodbye!\")\n",
    "        break\n",
    "    print(f\"Chatbot: {chatbot_response(user_input)}\")"
   ]
  },
  {
   "cell_type": "code",
   "execution_count": null,
   "id": "de1f4f6c-3b0b-4553-97df-242da0c99fa2",
   "metadata": {},
   "outputs": [],
   "source": []
  }
 ],
 "metadata": {
  "kernelspec": {
   "display_name": "Python [conda env:base] *",
   "language": "python",
   "name": "conda-base-py"
  },
  "language_info": {
   "codemirror_mode": {
    "name": "ipython",
    "version": 3
   },
   "file_extension": ".py",
   "mimetype": "text/x-python",
   "name": "python",
   "nbconvert_exporter": "python",
   "pygments_lexer": "ipython3",
   "version": "3.12.7"
  }
 },
 "nbformat": 4,
 "nbformat_minor": 5
}
